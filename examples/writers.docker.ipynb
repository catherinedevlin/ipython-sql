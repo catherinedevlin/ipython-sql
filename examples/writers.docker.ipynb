{
 "cells": [
  {
   "cell_type": "code",
   "execution_count": 1,
   "metadata": {},
   "outputs": [],
   "source": [
    "%load_ext sql"
   ]
  },
  {
   "cell_type": "code",
   "execution_count": 4,
   "metadata": {},
   "outputs": [
    {
     "data": {
      "text/plain": [
       "'Connected: postgres@postgres'"
      ]
     },
     "execution_count": 4,
     "metadata": {},
     "output_type": "execute_result"
    }
   ],
   "source": [
    "%sql postgresql://postgres:postgres@db/postgres"
   ]
  },
  {
   "cell_type": "code",
   "execution_count": 5,
   "metadata": {},
   "outputs": [
    {
     "name": "stdout",
     "output_type": "stream",
     "text": [
      " * postgres@postgres\n",
      " * postgresql://postgres:postgres@db/postgres\n",
      "Done.\n",
      "3 rows affected.\n"
     ]
    },
    {
     "data": {
      "text/plain": [
       "[]"
      ]
     },
     "execution_count": 5,
     "metadata": {},
     "output_type": "execute_result"
    }
   ],
   "source": [
    "%%sql\n",
    "CREATE TABLE people (first text, last text, drink text);\n",
    "INSERT INTO people (first,last,drink)\n",
    "VALUES\n",
    "    ('zaphod','beeblebrox','pan galactic gargle blaster'),\n",
    "    ('arthur','dent','tea'),\n",
    "    ('ford','prefect','old janx spirit')\n",
    "    ;"
   ]
  },
  {
   "cell_type": "code",
   "execution_count": 6,
   "metadata": {},
   "outputs": [
    {
     "name": "stdout",
     "output_type": "stream",
     "text": [
      " * postgres@postgres\n",
      " * postgresql://postgres:postgres@db/postgres\n",
      "3 rows affected.\n"
     ]
    },
    {
     "data": {
      "text/html": [
       "<table>\n",
       "    <tr>\n",
       "        <th>first</th>\n",
       "        <th>last</th>\n",
       "        <th>drink</th>\n",
       "    </tr>\n",
       "    <tr>\n",
       "        <td>zaphod</td>\n",
       "        <td>beeblebrox</td>\n",
       "        <td>pan galactic gargle blaster</td>\n",
       "    </tr>\n",
       "    <tr>\n",
       "        <td>arthur</td>\n",
       "        <td>dent</td>\n",
       "        <td>tea</td>\n",
       "    </tr>\n",
       "    <tr>\n",
       "        <td>ford</td>\n",
       "        <td>prefect</td>\n",
       "        <td>old janx spirit</td>\n",
       "    </tr>\n",
       "</table>"
      ],
      "text/plain": [
       "[('zaphod', 'beeblebrox', 'pan galactic gargle blaster'),\n",
       " ('arthur', 'dent', 'tea'),\n",
       " ('ford', 'prefect', 'old janx spirit')]"
      ]
     },
     "execution_count": 6,
     "metadata": {},
     "output_type": "execute_result"
    }
   ],
   "source": [
    "%sql select * from people"
   ]
  },
  {
   "cell_type": "code",
   "execution_count": null,
   "metadata": {},
   "outputs": [],
   "source": []
  }
 ],
 "metadata": {
  "kernelspec": {
   "display_name": "Python 3",
   "language": "python",
   "name": "python3"
  },
  "language_info": {
   "codemirror_mode": {
    "name": "ipython",
    "version": 3
   },
   "file_extension": ".py",
   "mimetype": "text/x-python",
   "name": "python",
   "nbconvert_exporter": "python",
   "pygments_lexer": "ipython3",
   "version": "3.5.3"
  }
 },
 "nbformat": 4,
 "nbformat_minor": 1
}
